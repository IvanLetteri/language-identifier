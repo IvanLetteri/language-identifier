{
 "cells": [
  {
   "cell_type": "code",
   "execution_count": 1,
   "metadata": {},
   "outputs": [],
   "source": [
    "import numpy as np\n",
    "from generate_data import create_data, array_to_word, word_to_array, count_words"
   ]
  },
  {
   "cell_type": "code",
   "execution_count": 2,
   "metadata": {},
   "outputs": [],
   "source": [
    "words_to_search = {'fr': ['Nouvelle-Calédonie', 'chat', 'automobile', 'ordinateur', \n",
    "                          'guerre', 'jeu', 'football', 'cuisine', \n",
    "                          'Céline Dion', 'science', 'picasso', 'mécanique quantique', 'nintendo',\n",
    "                         'bois', 'RMS Titanic'], \n",
    "                  \n",
    "                   'en': ['Miscegenation', 'cat', 'car', 'computer', 'food', \n",
    "                         'soccer', 'game', 'war', 'plant', 'football', \n",
    "                         'science', 'picasso', 'quantum mechanics', 'nintendo', 'Céline Dion',\n",
    "                        'film', 'cosmetics', 'RMS Titanic'],\n",
    "                  \n",
    "                   'es': ['Felis silvestris catus', 'computadora', 'alimento', 'futbol', 'ciencia',\n",
    "                        'guerra', 'juego', 'nintendo', 'picasso', 'arbol',\n",
    "                        'Céline Dion', 'mecanica cuantica', 'electricidad', 'agua', 'sol',\n",
    "                         'RMS Titanic', 'Elvis Presley', 'pelicula', 'pasta', 'cosmetico',\n",
    "                         'madera', 'piscina']}"
   ]
  },
  {
   "cell_type": "code",
   "execution_count": 5,
   "metadata": {},
   "outputs": [],
   "source": [
    "features, labels = create_data(words_to_search, max_len = 12, min_len = 2, remove_duplicates= False)"
   ]
  },
  {
   "cell_type": "code",
   "execution_count": 29,
   "metadata": {},
   "outputs": [],
   "source": [
    "np.save('features.npy', features)\n",
    "np.save('labels.npy', labels)"
   ]
  },
  {
   "cell_type": "code",
   "execution_count": 6,
   "metadata": {},
   "outputs": [
    {
     "name": "stdout",
     "output_type": "stream",
     "text": [
      "Number of words in language  0 :  158920\n",
      "Number of words in language  1 :  155229\n",
      "Number of words in language  2 :  146007\n",
      "Total number of words:  460156\n"
     ]
    }
   ],
   "source": [
    "count_words(features, labels)"
   ]
  },
  {
   "cell_type": "code",
   "execution_count": null,
   "metadata": {},
   "outputs": [],
   "source": []
  }
 ],
 "metadata": {
  "kernelspec": {
   "display_name": "Python 3",
   "language": "python",
   "name": "python3"
  },
  "language_info": {
   "codemirror_mode": {
    "name": "ipython",
    "version": 3
   },
   "file_extension": ".py",
   "mimetype": "text/x-python",
   "name": "python",
   "nbconvert_exporter": "python",
   "pygments_lexer": "ipython3",
   "version": "3.6.8"
  }
 },
 "nbformat": 4,
 "nbformat_minor": 2
}
