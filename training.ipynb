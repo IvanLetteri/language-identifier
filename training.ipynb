{
 "cells": [
  {
   "cell_type": "markdown",
   "metadata": {
    "colab_type": "text",
    "id": "Rsk-S2hcCKsO"
   },
   "source": [
    "# Setup specific to Google Colab"
   ]
  },
  {
   "cell_type": "code",
   "execution_count": null,
   "metadata": {
    "colab": {
     "base_uri": "https://localhost:8080/",
     "height": 113,
     "resources": {
      "http://localhost:8080/nbextensions/google.colab/files.js": {
       "data": "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",
       "headers": [
        [
         "content-type",
         "application/javascript"
        ]
       ],
       "ok": true,
       "status": 200,
       "status_text": ""
      }
     }
    },
    "colab_type": "code",
    "executionInfo": {
     "elapsed": 11599,
     "status": "ok",
     "timestamp": 1561556355538,
     "user": {
      "displayName": "Yan Gobeil",
      "photoUrl": "https://lh3.googleusercontent.com/-p5CdSpr2plU/AAAAAAAAAAI/AAAAAAAAAEM/fNSnklO0bqM/s64/photo.jpg",
      "userId": "07270613486232327174"
     },
     "user_tz": 240
    },
    "id": "fN6_idwbyW9U",
    "outputId": "01d63f42-b6d4-4048-852f-8a057dc0da14"
   },
   "outputs": [],
   "source": [
    "# upload the generate_data.py file to be able to import it\n",
    "\n",
    "from google.colab import files\n",
    "files.upload()"
   ]
  },
  {
   "cell_type": "code",
   "execution_count": null,
   "metadata": {
    "colab": {
     "base_uri": "https://localhost:8080/",
     "height": 124
    },
    "colab_type": "code",
    "executionInfo": {
     "elapsed": 27691,
     "status": "ok",
     "timestamp": 1561556394340,
     "user": {
      "displayName": "Yan Gobeil",
      "photoUrl": "https://lh3.googleusercontent.com/-p5CdSpr2plU/AAAAAAAAAAI/AAAAAAAAAEM/fNSnklO0bqM/s64/photo.jpg",
      "userId": "07270613486232327174"
     },
     "user_tz": 240
    },
    "id": "689V0VjCygy1",
    "outputId": "5cd47275-c22e-435d-de17-50708aeae0a8"
   },
   "outputs": [],
   "source": [
    "# link to google drive to access the data\n",
    "\n",
    "from google.colab import drive\n",
    "drive.mount('/content/drive')"
   ]
  },
  {
   "cell_type": "markdown",
   "metadata": {
    "colab_type": "text",
    "id": "cvyvYONWCald"
   },
   "source": [
    "# Setting up the data"
   ]
  },
  {
   "cell_type": "code",
   "execution_count": 0,
   "metadata": {
    "colab": {},
    "colab_type": "code",
    "id": "K1YD7T8MZSgR"
   },
   "outputs": [],
   "source": [
    "!pip install wikipedia\n",
    "import numpy as np\n",
    "from sklearn.model_selection import train_test_split"
   ]
  },
  {
   "cell_type": "code",
   "execution_count": 0,
   "metadata": {
    "colab": {},
    "colab_type": "code",
    "id": "OQw9JtUjZSgv"
   },
   "outputs": [],
   "source": [
    "features = np.load('/content/drive/My Drive/Machine Learning/Language classifier/features.npy')\n",
    "labels = np.load('/content/drive/My Drive/Machine Learning/Language classifier/labels.npy')"
   ]
  },
  {
   "cell_type": "code",
   "execution_count": 0,
   "metadata": {
    "colab": {},
    "colab_type": "code",
    "id": "GSbgL5NtZSg-"
   },
   "outputs": [],
   "source": [
    "X_train, X_test, y_train, y_test = train_test_split(features, labels, test_size=0.01, random_state=42)"
   ]
  },
  {
   "cell_type": "code",
   "execution_count": 0,
   "metadata": {
    "colab": {},
    "colab_type": "code",
    "id": "5N48Ug55ZShE"
   },
   "outputs": [],
   "source": [
    "# FF requires different format for the data\n",
    "\n",
    "X_train_flat = X_train.reshape(X_train.shape[0], X_train.shape[1]*X_train.shape[2])\n",
    "X_test_flat = X_test.reshape(X_test.shape[0], X_test.shape[1]*X_test.shape[2])"
   ]
  },
  {
   "cell_type": "markdown",
   "metadata": {
    "colab_type": "text",
    "id": "kG-dT-6wCm7v"
   },
   "source": [
    "\n",
    "# Building the models\n",
    "\n"
   ]
  },
  {
   "cell_type": "code",
   "execution_count": 0,
   "metadata": {
    "colab": {},
    "colab_type": "code",
    "id": "3pcVmXN0Czvt"
   },
   "outputs": [],
   "source": [
    "import keras\n",
    "from keras.layers import Dense, LSTM, SeparableConv1D, Flatten, Conv1D\n",
    "from keras.models import Sequential\n",
    "from keras.callbacks import ModelCheckpoint\n",
    "import time"
   ]
  },
  {
   "cell_type": "code",
   "execution_count": 0,
   "metadata": {
    "colab": {},
    "colab_type": "code",
    "id": "bNBo6s6sDQRp"
   },
   "outputs": [],
   "source": [
    "checkpointFF = ModelCheckpoint('modelFF.hdf5', monitor='val_acc', verbose=0, save_best_only=True, mode='max')\n",
    "checkpointCNN = ModelCheckpoint('modelCNN.hdf5', monitor='val_acc', verbose=0, save_best_only=True, mode='max')\n",
    "checkpointCNNsep = ModelCheckpoint('modelCNNsep.hdf5', monitor='val_acc', verbose=0, save_best_only=True, mode='max')\n",
    "checkpointRNN = ModelCheckpoint('modelRNN.hdf5', monitor='val_acc', verbose=0, save_best_only=True, mode='max')"
   ]
  },
  {
   "cell_type": "code",
   "execution_count": 0,
   "metadata": {
    "colab": {},
    "colab_type": "code",
    "id": "KmficYjPZShR"
   },
   "outputs": [],
   "source": [
    "modelFF = Sequential()\n",
    "modelFF.add(Dense(256, activation = 'relu', input_dim = 26*12))\n",
    "modelFF.add(Dense(128, activation = 'relu'))\n",
    "modelFF.add(Dense(128, activation = 'relu'))\n",
    "modelFF.add(Dense(128, activation = 'relu'))\n",
    "modelFF.add(Dense(3, activation = 'softmax'))\n",
    "\n",
    "modelFF.compile(optimizer = 'adam', loss = 'categorical_crossentropy', metrics = ['accuracy']);"
   ]
  },
  {
   "cell_type": "code",
   "execution_count": null,
   "metadata": {
    "colab": {
     "base_uri": "https://localhost:8080/",
     "height": 1000
    },
    "colab_type": "code",
    "executionInfo": {
     "elapsed": 9556,
     "status": "ok",
     "timestamp": 1561574748116,
     "user": {
      "displayName": "Yan Gobeil",
      "photoUrl": "https://lh3.googleusercontent.com/-p5CdSpr2plU/AAAAAAAAAAI/AAAAAAAAAEM/fNSnklO0bqM/s64/photo.jpg",
      "userId": "07270613486232327174"
     },
     "user_tz": 240
    },
    "id": "pUOoXz_DZShl",
    "outputId": "53a4e904-cac7-47e3-8bc3-8deb9f52652f"
   },
   "outputs": [],
   "source": [
    "time0 = time.time()\n",
    "\n",
    "historyFF = modelFF.fit(X_train_flat, y_train, batch_size = 1028, \n",
    "                   epochs = 100, validation_data = (X_test_flat,y_test), callbacks = [checkpointFF], verbose = 1);\n",
    "\n",
    "print('Time taken to run 100 epochs: ', time.time()-time0)"
   ]
  },
  {
   "cell_type": "code",
   "execution_count": 0,
   "metadata": {
    "colab": {},
    "colab_type": "code",
    "id": "XNMGTX31ZShw"
   },
   "outputs": [],
   "source": [
    "modelRNN = Sequential()\n",
    "modelRNN.add(LSTM(128, input_shape = (26,12)))\n",
    "modelRNN.add(Dense(3, activation = 'softmax'))\n",
    "\n",
    "modelRNN.compile(optimizer = 'adam', loss = 'categorical_crossentropy', metrics = ['accuracy'], )"
   ]
  },
  {
   "cell_type": "code",
   "execution_count": null,
   "metadata": {
    "colab": {
     "base_uri": "https://localhost:8080/",
     "height": 1000
    },
    "colab_type": "code",
    "executionInfo": {
     "elapsed": 14927,
     "status": "ok",
     "timestamp": 1561574797132,
     "user": {
      "displayName": "Yan Gobeil",
      "photoUrl": "https://lh3.googleusercontent.com/-p5CdSpr2plU/AAAAAAAAAAI/AAAAAAAAAEM/fNSnklO0bqM/s64/photo.jpg",
      "userId": "07270613486232327174"
     },
     "user_tz": 240
    },
    "id": "2Z8ubtbVZSh0",
    "outputId": "8211c127-b81e-4dd7-81e1-d642cd084d5e"
   },
   "outputs": [],
   "source": [
    "time0 = time.time()\n",
    "\n",
    "historyRNN = modelRNN.fit(X_train, y_train, batch_size = 1028, \n",
    "                   epochs = 100, validation_data = (X_test,y_test), callbacks = [checkpointRNN], verbose = 1);\n",
    "\n",
    "print('Time taken to run 100 epochs: ', time.time()-time0)"
   ]
  },
  {
   "cell_type": "code",
   "execution_count": 0,
   "metadata": {
    "colab": {},
    "colab_type": "code",
    "id": "fjpN_rGPZSh8"
   },
   "outputs": [],
   "source": [
    "modelCNN = Sequential()\n",
    "modelCNN.add(Conv1D(128, 2, activation = 'relu', data_format='channels_first', input_shape = (26,12)))\n",
    "modelCNN.add(Conv1D(64, 3, activation = 'relu', data_format='channels_first'))\n",
    "modelCNN.add(Conv1D(64, 4, activation = 'relu', data_format='channels_first'))\n",
    "modelCNN.add(Conv1D(64, 2, activation = 'relu', data_format='channels_first'))\n",
    "modelCNN.add(Conv1D(64, 2, activation = 'relu', data_format='channels_first'))\n",
    "modelCNN.add(Flatten())\n",
    "modelCNN.add(Dense(3, activation = 'softmax'))\n",
    "\n",
    "modelCNN.compile(optimizer = 'adam', loss = 'categorical_crossentropy', metrics = ['accuracy'])"
   ]
  },
  {
   "cell_type": "code",
   "execution_count": null,
   "metadata": {
    "colab": {
     "base_uri": "https://localhost:8080/",
     "height": 1000
    },
    "colab_type": "code",
    "executionInfo": {
     "elapsed": 1690,
     "status": "ok",
     "timestamp": 1561574797142,
     "user": {
      "displayName": "Yan Gobeil",
      "photoUrl": "https://lh3.googleusercontent.com/-p5CdSpr2plU/AAAAAAAAAAI/AAAAAAAAAEM/fNSnklO0bqM/s64/photo.jpg",
      "userId": "07270613486232327174"
     },
     "user_tz": 240
    },
    "id": "izTY9jFSZSiB",
    "outputId": "50357735-638f-45d6-b51e-4153c7375f49"
   },
   "outputs": [],
   "source": [
    "time0 = time.time()\n",
    "\n",
    "historyCNN = modelCNN.fit(X_train, y_train, batch_size = 1028, \n",
    "                   epochs = 100, validation_data = (X_test,y_test), callbacks = [checkpointCNN], verbose = 1);\n",
    "\n",
    "print('Time taken to run 100 epochs: ', time.time()-time0)"
   ]
  },
  {
   "cell_type": "code",
   "execution_count": 0,
   "metadata": {
    "colab": {},
    "colab_type": "code",
    "id": "Xraf1jOlZSiH"
   },
   "outputs": [],
   "source": [
    "modelCNNsep = Sequential()\n",
    "modelCNNsep.add(SeparableConv1D(128, 2, activation = 'relu', data_format='channels_first', input_shape = (26,12)))\n",
    "modelCNNsep.add(SeparableConv1D(64, 3, activation = 'relu', data_format='channels_first'))\n",
    "modelCNNsep.add(SeparableConv1D(64, 4, activation = 'relu', data_format='channels_first'))\n",
    "modelCNNsep.add(SeparableConv1D(64, 2, activation = 'relu', data_format='channels_first'))\n",
    "modelCNNsep.add(SeparableConv1D(64, 2, activation = 'relu', data_format='channels_first'))\n",
    "modelCNNsep.add(Flatten())\n",
    "modelCNNsep.add(Dense(3, activation = 'softmax'))\n",
    "\n",
    "modelCNNsep.compile(optimizer = 'adam', loss = 'categorical_crossentropy', metrics = ['accuracy'])"
   ]
  },
  {
   "cell_type": "code",
   "execution_count": null,
   "metadata": {
    "colab": {
     "base_uri": "https://localhost:8080/",
     "height": 1000
    },
    "colab_type": "code",
    "executionInfo": {
     "elapsed": 671,
     "status": "ok",
     "timestamp": 1561574797155,
     "user": {
      "displayName": "Yan Gobeil",
      "photoUrl": "https://lh3.googleusercontent.com/-p5CdSpr2plU/AAAAAAAAAAI/AAAAAAAAAEM/fNSnklO0bqM/s64/photo.jpg",
      "userId": "07270613486232327174"
     },
     "user_tz": 240
    },
    "id": "d7-bpXV9xemL",
    "outputId": "e774737a-ce51-41ff-a115-e9246173060e"
   },
   "outputs": [],
   "source": [
    "time0 = time.time()\n",
    "\n",
    "historyCNNsep = modelCNNsep.fit(X_train, y_train, batch_size = 1028, \n",
    "                   epochs = 100, validation_data = (X_test,y_test), callbacks = [checkpointCNNsep], verbose = 1);\n",
    "\n",
    "print('Time taken to run 100 epochs: ', time.time()-time0)"
   ]
  },
  {
   "cell_type": "code",
   "execution_count": null,
   "metadata": {
    "colab": {
     "base_uri": "https://localhost:8080/",
     "height": 287
    },
    "colab_type": "code",
    "executionInfo": {
     "elapsed": 3409,
     "status": "ok",
     "timestamp": 1561575049732,
     "user": {
      "displayName": "Yan Gobeil",
      "photoUrl": "https://lh3.googleusercontent.com/-p5CdSpr2plU/AAAAAAAAAAI/AAAAAAAAAEM/fNSnklO0bqM/s64/photo.jpg",
      "userId": "07270613486232327174"
     },
     "user_tz": 240
    },
    "id": "8pOUomvXZSiS",
    "outputId": "4da9b68f-559c-45c9-c937-5bb54caec038"
   },
   "outputs": [],
   "source": [
    "import json\n",
    "\n",
    "with open('historyFF.json', 'w') as f:\n",
    "    json.dump(historyFF.history, f)\n",
    "    \n",
    "with open('historyRNN.json', 'w') as f:\n",
    "    json.dump(historyRNN.history, f)\n",
    "    \n",
    "with open('historyCNN.json', 'w') as f:\n",
    "    json.dump(historyCNN.history, f)\n",
    "    \n",
    "with open('historyCNNsep.json', 'w') as f:\n",
    "    json.dump(historyCNNsep.history, f)"
   ]
  }
 ],
 "metadata": {
  "accelerator": "GPU",
  "colab": {
   "collapsed_sections": [],
   "name": "Neural networks.ipynb",
   "provenance": [],
   "toc_visible": true,
   "version": "0.3.2"
  },
  "kernelspec": {
   "display_name": "Python 3",
   "language": "python",
   "name": "python3"
  },
  "language_info": {
   "codemirror_mode": {
    "name": "ipython",
    "version": 3
   },
   "file_extension": ".py",
   "mimetype": "text/x-python",
   "name": "python",
   "nbconvert_exporter": "python",
   "pygments_lexer": "ipython3",
   "version": "3.6.8"
  }
 },
 "nbformat": 4,
 "nbformat_minor": 1
}
